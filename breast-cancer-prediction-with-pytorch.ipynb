{
 "cells": [
  {
   "cell_type": "code",
   "execution_count": 1,
   "id": "651cf4cc",
   "metadata": {
    "_cell_guid": "b1076dfc-b9ad-4769-8c92-a6c4dae69d19",
    "_uuid": "8f2839f25d086af736a60e9eeb907d3b93b6e0e5",
    "execution": {
     "iopub.execute_input": "2025-03-02T17:50:56.613655Z",
     "iopub.status.busy": "2025-03-02T17:50:56.613144Z",
     "iopub.status.idle": "2025-03-02T17:50:57.839135Z",
     "shell.execute_reply": "2025-03-02T17:50:57.837613Z"
    },
    "papermill": {
     "duration": 1.234828,
     "end_time": "2025-03-02T17:50:57.841445",
     "exception": false,
     "start_time": "2025-03-02T17:50:56.606617",
     "status": "completed"
    },
    "tags": []
   },
   "outputs": [
    {
     "name": "stdout",
     "output_type": "stream",
     "text": [
      "/kaggle/input/breast-cancer-dataset/breast-cancer.csv\n"
     ]
    }
   ],
   "source": [
    "#import libraries\n",
    "import numpy as np # linear algebra\n",
    "import pandas as pd # data processing, CSV file I/O (e.g. pd.read_csv)\n",
    "\n",
    "import os\n",
    "for dirname, _, filenames in os.walk('/kaggle/input'):\n",
    "    for filename in filenames:\n",
    "        print(os.path.join(dirname, filename))"
   ]
  },
  {
   "cell_type": "code",
   "execution_count": 2,
   "id": "b18ead96",
   "metadata": {
    "execution": {
     "iopub.execute_input": "2025-03-02T17:50:57.852616Z",
     "iopub.status.busy": "2025-03-02T17:50:57.852059Z",
     "iopub.status.idle": "2025-03-02T17:51:04.642506Z",
     "shell.execute_reply": "2025-03-02T17:51:04.641347Z"
    },
    "papermill": {
     "duration": 6.797974,
     "end_time": "2025-03-02T17:51:04.644474",
     "exception": false,
     "start_time": "2025-03-02T17:50:57.846500",
     "status": "completed"
    },
    "tags": []
   },
   "outputs": [],
   "source": [
    "import torch\n",
    "\n",
    "from sklearn.model_selection import train_test_split\n",
    "from sklearn.preprocessing import StandardScaler\n",
    "from sklearn.preprocessing import LabelEncoder"
   ]
  },
  {
   "cell_type": "code",
   "execution_count": 3,
   "id": "3320c262",
   "metadata": {
    "execution": {
     "iopub.execute_input": "2025-03-02T17:51:04.655821Z",
     "iopub.status.busy": "2025-03-02T17:51:04.655208Z",
     "iopub.status.idle": "2025-03-02T17:51:04.720088Z",
     "shell.execute_reply": "2025-03-02T17:51:04.719053Z"
    },
    "papermill": {
     "duration": 0.072406,
     "end_time": "2025-03-02T17:51:04.722031",
     "exception": false,
     "start_time": "2025-03-02T17:51:04.649625",
     "status": "completed"
    },
    "tags": []
   },
   "outputs": [
    {
     "data": {
      "text/html": [
       "<div>\n",
       "<style scoped>\n",
       "    .dataframe tbody tr th:only-of-type {\n",
       "        vertical-align: middle;\n",
       "    }\n",
       "\n",
       "    .dataframe tbody tr th {\n",
       "        vertical-align: top;\n",
       "    }\n",
       "\n",
       "    .dataframe thead th {\n",
       "        text-align: right;\n",
       "    }\n",
       "</style>\n",
       "<table border=\"1\" class=\"dataframe\">\n",
       "  <thead>\n",
       "    <tr style=\"text-align: right;\">\n",
       "      <th></th>\n",
       "      <th>id</th>\n",
       "      <th>diagnosis</th>\n",
       "      <th>radius_mean</th>\n",
       "      <th>texture_mean</th>\n",
       "      <th>perimeter_mean</th>\n",
       "      <th>area_mean</th>\n",
       "      <th>smoothness_mean</th>\n",
       "      <th>compactness_mean</th>\n",
       "      <th>concavity_mean</th>\n",
       "      <th>concave points_mean</th>\n",
       "      <th>...</th>\n",
       "      <th>radius_worst</th>\n",
       "      <th>texture_worst</th>\n",
       "      <th>perimeter_worst</th>\n",
       "      <th>area_worst</th>\n",
       "      <th>smoothness_worst</th>\n",
       "      <th>compactness_worst</th>\n",
       "      <th>concavity_worst</th>\n",
       "      <th>concave points_worst</th>\n",
       "      <th>symmetry_worst</th>\n",
       "      <th>fractal_dimension_worst</th>\n",
       "    </tr>\n",
       "  </thead>\n",
       "  <tbody>\n",
       "    <tr>\n",
       "      <th>0</th>\n",
       "      <td>842302</td>\n",
       "      <td>M</td>\n",
       "      <td>17.99</td>\n",
       "      <td>10.38</td>\n",
       "      <td>122.80</td>\n",
       "      <td>1001.0</td>\n",
       "      <td>0.11840</td>\n",
       "      <td>0.27760</td>\n",
       "      <td>0.3001</td>\n",
       "      <td>0.14710</td>\n",
       "      <td>...</td>\n",
       "      <td>25.38</td>\n",
       "      <td>17.33</td>\n",
       "      <td>184.60</td>\n",
       "      <td>2019.0</td>\n",
       "      <td>0.1622</td>\n",
       "      <td>0.6656</td>\n",
       "      <td>0.7119</td>\n",
       "      <td>0.2654</td>\n",
       "      <td>0.4601</td>\n",
       "      <td>0.11890</td>\n",
       "    </tr>\n",
       "    <tr>\n",
       "      <th>1</th>\n",
       "      <td>842517</td>\n",
       "      <td>M</td>\n",
       "      <td>20.57</td>\n",
       "      <td>17.77</td>\n",
       "      <td>132.90</td>\n",
       "      <td>1326.0</td>\n",
       "      <td>0.08474</td>\n",
       "      <td>0.07864</td>\n",
       "      <td>0.0869</td>\n",
       "      <td>0.07017</td>\n",
       "      <td>...</td>\n",
       "      <td>24.99</td>\n",
       "      <td>23.41</td>\n",
       "      <td>158.80</td>\n",
       "      <td>1956.0</td>\n",
       "      <td>0.1238</td>\n",
       "      <td>0.1866</td>\n",
       "      <td>0.2416</td>\n",
       "      <td>0.1860</td>\n",
       "      <td>0.2750</td>\n",
       "      <td>0.08902</td>\n",
       "    </tr>\n",
       "    <tr>\n",
       "      <th>2</th>\n",
       "      <td>84300903</td>\n",
       "      <td>M</td>\n",
       "      <td>19.69</td>\n",
       "      <td>21.25</td>\n",
       "      <td>130.00</td>\n",
       "      <td>1203.0</td>\n",
       "      <td>0.10960</td>\n",
       "      <td>0.15990</td>\n",
       "      <td>0.1974</td>\n",
       "      <td>0.12790</td>\n",
       "      <td>...</td>\n",
       "      <td>23.57</td>\n",
       "      <td>25.53</td>\n",
       "      <td>152.50</td>\n",
       "      <td>1709.0</td>\n",
       "      <td>0.1444</td>\n",
       "      <td>0.4245</td>\n",
       "      <td>0.4504</td>\n",
       "      <td>0.2430</td>\n",
       "      <td>0.3613</td>\n",
       "      <td>0.08758</td>\n",
       "    </tr>\n",
       "    <tr>\n",
       "      <th>3</th>\n",
       "      <td>84348301</td>\n",
       "      <td>M</td>\n",
       "      <td>11.42</td>\n",
       "      <td>20.38</td>\n",
       "      <td>77.58</td>\n",
       "      <td>386.1</td>\n",
       "      <td>0.14250</td>\n",
       "      <td>0.28390</td>\n",
       "      <td>0.2414</td>\n",
       "      <td>0.10520</td>\n",
       "      <td>...</td>\n",
       "      <td>14.91</td>\n",
       "      <td>26.50</td>\n",
       "      <td>98.87</td>\n",
       "      <td>567.7</td>\n",
       "      <td>0.2098</td>\n",
       "      <td>0.8663</td>\n",
       "      <td>0.6869</td>\n",
       "      <td>0.2575</td>\n",
       "      <td>0.6638</td>\n",
       "      <td>0.17300</td>\n",
       "    </tr>\n",
       "    <tr>\n",
       "      <th>4</th>\n",
       "      <td>84358402</td>\n",
       "      <td>M</td>\n",
       "      <td>20.29</td>\n",
       "      <td>14.34</td>\n",
       "      <td>135.10</td>\n",
       "      <td>1297.0</td>\n",
       "      <td>0.10030</td>\n",
       "      <td>0.13280</td>\n",
       "      <td>0.1980</td>\n",
       "      <td>0.10430</td>\n",
       "      <td>...</td>\n",
       "      <td>22.54</td>\n",
       "      <td>16.67</td>\n",
       "      <td>152.20</td>\n",
       "      <td>1575.0</td>\n",
       "      <td>0.1374</td>\n",
       "      <td>0.2050</td>\n",
       "      <td>0.4000</td>\n",
       "      <td>0.1625</td>\n",
       "      <td>0.2364</td>\n",
       "      <td>0.07678</td>\n",
       "    </tr>\n",
       "  </tbody>\n",
       "</table>\n",
       "<p>5 rows × 32 columns</p>\n",
       "</div>"
      ],
      "text/plain": [
       "         id diagnosis  radius_mean  texture_mean  perimeter_mean  area_mean  \\\n",
       "0    842302         M        17.99         10.38          122.80     1001.0   \n",
       "1    842517         M        20.57         17.77          132.90     1326.0   \n",
       "2  84300903         M        19.69         21.25          130.00     1203.0   \n",
       "3  84348301         M        11.42         20.38           77.58      386.1   \n",
       "4  84358402         M        20.29         14.34          135.10     1297.0   \n",
       "\n",
       "   smoothness_mean  compactness_mean  concavity_mean  concave points_mean  \\\n",
       "0          0.11840           0.27760          0.3001              0.14710   \n",
       "1          0.08474           0.07864          0.0869              0.07017   \n",
       "2          0.10960           0.15990          0.1974              0.12790   \n",
       "3          0.14250           0.28390          0.2414              0.10520   \n",
       "4          0.10030           0.13280          0.1980              0.10430   \n",
       "\n",
       "   ...  radius_worst  texture_worst  perimeter_worst  area_worst  \\\n",
       "0  ...         25.38          17.33           184.60      2019.0   \n",
       "1  ...         24.99          23.41           158.80      1956.0   \n",
       "2  ...         23.57          25.53           152.50      1709.0   \n",
       "3  ...         14.91          26.50            98.87       567.7   \n",
       "4  ...         22.54          16.67           152.20      1575.0   \n",
       "\n",
       "   smoothness_worst  compactness_worst  concavity_worst  concave points_worst  \\\n",
       "0            0.1622             0.6656           0.7119                0.2654   \n",
       "1            0.1238             0.1866           0.2416                0.1860   \n",
       "2            0.1444             0.4245           0.4504                0.2430   \n",
       "3            0.2098             0.8663           0.6869                0.2575   \n",
       "4            0.1374             0.2050           0.4000                0.1625   \n",
       "\n",
       "   symmetry_worst  fractal_dimension_worst  \n",
       "0          0.4601                  0.11890  \n",
       "1          0.2750                  0.08902  \n",
       "2          0.3613                  0.08758  \n",
       "3          0.6638                  0.17300  \n",
       "4          0.2364                  0.07678  \n",
       "\n",
       "[5 rows x 32 columns]"
      ]
     },
     "execution_count": 3,
     "metadata": {},
     "output_type": "execute_result"
    }
   ],
   "source": [
    "#load dataset\n",
    "df = pd.read_csv(\"/kaggle/input/breast-cancer-dataset/breast-cancer.csv\")\n",
    "df.head()"
   ]
  },
  {
   "cell_type": "code",
   "execution_count": 4,
   "id": "cbd4347c",
   "metadata": {
    "execution": {
     "iopub.execute_input": "2025-03-02T17:51:04.735190Z",
     "iopub.status.busy": "2025-03-02T17:51:04.734824Z",
     "iopub.status.idle": "2025-03-02T17:51:04.741899Z",
     "shell.execute_reply": "2025-03-02T17:51:04.740398Z"
    },
    "papermill": {
     "duration": 0.015378,
     "end_time": "2025-03-02T17:51:04.743856",
     "exception": false,
     "start_time": "2025-03-02T17:51:04.728478",
     "status": "completed"
    },
    "tags": []
   },
   "outputs": [
    {
     "data": {
      "text/plain": [
       "(569, 32)"
      ]
     },
     "execution_count": 4,
     "metadata": {},
     "output_type": "execute_result"
    }
   ],
   "source": [
    "df.shape"
   ]
  },
  {
   "cell_type": "code",
   "execution_count": 5,
   "id": "8442b59e",
   "metadata": {
    "execution": {
     "iopub.execute_input": "2025-03-02T17:51:04.756489Z",
     "iopub.status.busy": "2025-03-02T17:51:04.756100Z",
     "iopub.status.idle": "2025-03-02T17:51:04.762431Z",
     "shell.execute_reply": "2025-03-02T17:51:04.761461Z"
    },
    "papermill": {
     "duration": 0.014754,
     "end_time": "2025-03-02T17:51:04.764510",
     "exception": false,
     "start_time": "2025-03-02T17:51:04.749756",
     "status": "completed"
    },
    "tags": []
   },
   "outputs": [
    {
     "data": {
      "text/plain": [
       "Index(['id', 'diagnosis', 'radius_mean', 'texture_mean', 'perimeter_mean',\n",
       "       'area_mean', 'smoothness_mean', 'compactness_mean', 'concavity_mean',\n",
       "       'concave points_mean', 'symmetry_mean', 'fractal_dimension_mean',\n",
       "       'radius_se', 'texture_se', 'perimeter_se', 'area_se', 'smoothness_se',\n",
       "       'compactness_se', 'concavity_se', 'concave points_se', 'symmetry_se',\n",
       "       'fractal_dimension_se', 'radius_worst', 'texture_worst',\n",
       "       'perimeter_worst', 'area_worst', 'smoothness_worst',\n",
       "       'compactness_worst', 'concavity_worst', 'concave points_worst',\n",
       "       'symmetry_worst', 'fractal_dimension_worst'],\n",
       "      dtype='object')"
      ]
     },
     "execution_count": 5,
     "metadata": {},
     "output_type": "execute_result"
    }
   ],
   "source": [
    "df.columns"
   ]
  },
  {
   "cell_type": "code",
   "execution_count": 6,
   "id": "5bd1bf19",
   "metadata": {
    "execution": {
     "iopub.execute_input": "2025-03-02T17:51:04.776430Z",
     "iopub.status.busy": "2025-03-02T17:51:04.776044Z",
     "iopub.status.idle": "2025-03-02T17:51:04.783455Z",
     "shell.execute_reply": "2025-03-02T17:51:04.782447Z"
    },
    "papermill": {
     "duration": 0.015382,
     "end_time": "2025-03-02T17:51:04.785282",
     "exception": false,
     "start_time": "2025-03-02T17:51:04.769900",
     "status": "completed"
    },
    "tags": []
   },
   "outputs": [],
   "source": [
    "df.drop(columns = 'id', inplace = True)"
   ]
  },
  {
   "cell_type": "code",
   "execution_count": 7,
   "id": "9b2d977a",
   "metadata": {
    "execution": {
     "iopub.execute_input": "2025-03-02T17:51:04.797513Z",
     "iopub.status.busy": "2025-03-02T17:51:04.797129Z",
     "iopub.status.idle": "2025-03-02T17:51:04.803606Z",
     "shell.execute_reply": "2025-03-02T17:51:04.802423Z"
    },
    "papermill": {
     "duration": 0.014447,
     "end_time": "2025-03-02T17:51:04.805440",
     "exception": false,
     "start_time": "2025-03-02T17:51:04.790993",
     "status": "completed"
    },
    "tags": []
   },
   "outputs": [
    {
     "data": {
      "text/plain": [
       "Index(['diagnosis', 'radius_mean', 'texture_mean', 'perimeter_mean',\n",
       "       'area_mean', 'smoothness_mean', 'compactness_mean', 'concavity_mean',\n",
       "       'concave points_mean', 'symmetry_mean', 'fractal_dimension_mean',\n",
       "       'radius_se', 'texture_se', 'perimeter_se', 'area_se', 'smoothness_se',\n",
       "       'compactness_se', 'concavity_se', 'concave points_se', 'symmetry_se',\n",
       "       'fractal_dimension_se', 'radius_worst', 'texture_worst',\n",
       "       'perimeter_worst', 'area_worst', 'smoothness_worst',\n",
       "       'compactness_worst', 'concavity_worst', 'concave points_worst',\n",
       "       'symmetry_worst', 'fractal_dimension_worst'],\n",
       "      dtype='object')"
      ]
     },
     "execution_count": 7,
     "metadata": {},
     "output_type": "execute_result"
    }
   ],
   "source": [
    "df.columns"
   ]
  },
  {
   "cell_type": "code",
   "execution_count": 8,
   "id": "9db20074",
   "metadata": {
    "execution": {
     "iopub.execute_input": "2025-03-02T17:51:04.818044Z",
     "iopub.status.busy": "2025-03-02T17:51:04.817714Z",
     "iopub.status.idle": "2025-03-02T17:51:04.823576Z",
     "shell.execute_reply": "2025-03-02T17:51:04.822399Z"
    },
    "papermill": {
     "duration": 0.014409,
     "end_time": "2025-03-02T17:51:04.825379",
     "exception": false,
     "start_time": "2025-03-02T17:51:04.810970",
     "status": "completed"
    },
    "tags": []
   },
   "outputs": [
    {
     "data": {
      "text/plain": [
       "(569, 31)"
      ]
     },
     "execution_count": 8,
     "metadata": {},
     "output_type": "execute_result"
    }
   ],
   "source": [
    "df.shape"
   ]
  },
  {
   "cell_type": "code",
   "execution_count": 9,
   "id": "5f0e68ec",
   "metadata": {
    "execution": {
     "iopub.execute_input": "2025-03-02T17:51:04.837728Z",
     "iopub.status.busy": "2025-03-02T17:51:04.837321Z",
     "iopub.status.idle": "2025-03-02T17:51:04.844793Z",
     "shell.execute_reply": "2025-03-02T17:51:04.843662Z"
    },
    "papermill": {
     "duration": 0.015691,
     "end_time": "2025-03-02T17:51:04.846656",
     "exception": false,
     "start_time": "2025-03-02T17:51:04.830965",
     "status": "completed"
    },
    "tags": []
   },
   "outputs": [],
   "source": [
    "#Split data into train and test sets\n",
    "xtrain, xtest, ytrain, ytest = train_test_split(df.iloc[:,1:], df.iloc[:,0], test_size= 0.2)"
   ]
  },
  {
   "cell_type": "code",
   "execution_count": 10,
   "id": "2b39f341",
   "metadata": {
    "execution": {
     "iopub.execute_input": "2025-03-02T17:51:04.859052Z",
     "iopub.status.busy": "2025-03-02T17:51:04.858629Z",
     "iopub.status.idle": "2025-03-02T17:51:04.888798Z",
     "shell.execute_reply": "2025-03-02T17:51:04.887251Z"
    },
    "papermill": {
     "duration": 0.038982,
     "end_time": "2025-03-02T17:51:04.891385",
     "exception": false,
     "start_time": "2025-03-02T17:51:04.852403",
     "status": "completed"
    },
    "tags": []
   },
   "outputs": [],
   "source": [
    "#Scale the training data and testing data\n",
    "scaler = StandardScaler()\n",
    "xtrain = scaler.fit_transform(xtrain)\n",
    "xtest = scaler.fit_transform(xtest)"
   ]
  },
  {
   "cell_type": "code",
   "execution_count": 11,
   "id": "917c4a59",
   "metadata": {
    "execution": {
     "iopub.execute_input": "2025-03-02T17:51:04.903872Z",
     "iopub.status.busy": "2025-03-02T17:51:04.903516Z",
     "iopub.status.idle": "2025-03-02T17:51:04.908583Z",
     "shell.execute_reply": "2025-03-02T17:51:04.907197Z"
    },
    "papermill": {
     "duration": 0.013759,
     "end_time": "2025-03-02T17:51:04.910804",
     "exception": false,
     "start_time": "2025-03-02T17:51:04.897045",
     "status": "completed"
    },
    "tags": []
   },
   "outputs": [],
   "source": [
    "#To convert the ytrain and ytest values from M and B numeric, we will use LabelEncoder\n",
    "encoder = LabelEncoder()\n",
    "ytrain = encoder.fit_transform(ytrain)\n",
    "ytest = encoder.fit_transform(ytest)"
   ]
  },
  {
   "cell_type": "code",
   "execution_count": 12,
   "id": "359e8b57",
   "metadata": {
    "execution": {
     "iopub.execute_input": "2025-03-02T17:51:04.924005Z",
     "iopub.status.busy": "2025-03-02T17:51:04.923628Z",
     "iopub.status.idle": "2025-03-02T17:51:04.928600Z",
     "shell.execute_reply": "2025-03-02T17:51:04.927247Z"
    },
    "papermill": {
     "duration": 0.013209,
     "end_time": "2025-03-02T17:51:04.930292",
     "exception": false,
     "start_time": "2025-03-02T17:51:04.917083",
     "status": "completed"
    },
    "tags": []
   },
   "outputs": [
    {
     "name": "stdout",
     "output_type": "stream",
     "text": [
      "<class 'numpy.ndarray'>\n",
      "<class 'numpy.ndarray'>\n"
     ]
    }
   ],
   "source": [
    "print(type(ytrain))\n",
    "print(type(xtrain))"
   ]
  },
  {
   "cell_type": "code",
   "execution_count": 13,
   "id": "62ef550c",
   "metadata": {
    "execution": {
     "iopub.execute_input": "2025-03-02T17:51:04.942672Z",
     "iopub.status.busy": "2025-03-02T17:51:04.942260Z",
     "iopub.status.idle": "2025-03-02T17:51:04.961853Z",
     "shell.execute_reply": "2025-03-02T17:51:04.960663Z"
    },
    "papermill": {
     "duration": 0.027863,
     "end_time": "2025-03-02T17:51:04.963777",
     "exception": false,
     "start_time": "2025-03-02T17:51:04.935914",
     "status": "completed"
    },
    "tags": []
   },
   "outputs": [],
   "source": [
    "#Convert numpy arrays to pytorch tensors\n",
    "xtrain_tensor = torch.from_numpy(xtrain)\n",
    "xtest_tensor = torch.from_numpy(xtest)\n",
    "ytrain_tensor = torch.from_numpy(ytrain)\n",
    "ytest_tensor = torch.from_numpy(ytest)"
   ]
  },
  {
   "cell_type": "code",
   "execution_count": 14,
   "id": "eced105b",
   "metadata": {
    "execution": {
     "iopub.execute_input": "2025-03-02T17:51:04.977324Z",
     "iopub.status.busy": "2025-03-02T17:51:04.976976Z",
     "iopub.status.idle": "2025-03-02T17:51:04.983700Z",
     "shell.execute_reply": "2025-03-02T17:51:04.982264Z"
    },
    "papermill": {
     "duration": 0.016008,
     "end_time": "2025-03-02T17:51:04.985819",
     "exception": false,
     "start_time": "2025-03-02T17:51:04.969811",
     "status": "completed"
    },
    "tags": []
   },
   "outputs": [
    {
     "name": "stdout",
     "output_type": "stream",
     "text": [
      "torch.Size([455, 30])\n",
      "torch.Size([455])\n"
     ]
    }
   ],
   "source": [
    "print(xtrain_tensor.shape)\n",
    "print(ytrain_tensor.shape)"
   ]
  },
  {
   "cell_type": "markdown",
   "id": "d4767eb7",
   "metadata": {
    "execution": {
     "iopub.execute_input": "2025-03-02T16:24:52.480971Z",
     "iopub.status.busy": "2025-03-02T16:24:52.480483Z",
     "iopub.status.idle": "2025-03-02T16:24:52.488499Z",
     "shell.execute_reply": "2025-03-02T16:24:52.486966Z",
     "shell.execute_reply.started": "2025-03-02T16:24:52.480924Z"
    },
    "papermill": {
     "duration": 0.005831,
     "end_time": "2025-03-02T17:51:04.997393",
     "exception": false,
     "start_time": "2025-03-02T17:51:04.991562",
     "status": "completed"
    },
    "tags": []
   },
   "source": [
    "##Define the model"
   ]
  },
  {
   "cell_type": "code",
   "execution_count": 15,
   "id": "5d183665",
   "metadata": {
    "execution": {
     "iopub.execute_input": "2025-03-02T17:51:05.010558Z",
     "iopub.status.busy": "2025-03-02T17:51:05.010075Z",
     "iopub.status.idle": "2025-03-02T17:51:05.014818Z",
     "shell.execute_reply": "2025-03-02T17:51:05.013518Z"
    },
    "papermill": {
     "duration": 0.013405,
     "end_time": "2025-03-02T17:51:05.016854",
     "exception": false,
     "start_time": "2025-03-02T17:51:05.003449",
     "status": "completed"
    },
    "tags": []
   },
   "outputs": [],
   "source": [
    "# hyper parameters\n",
    "learning_rate = 0.1\n",
    "epoch = 10"
   ]
  },
  {
   "cell_type": "code",
   "execution_count": 16,
   "id": "ff13a1ed",
   "metadata": {
    "execution": {
     "iopub.execute_input": "2025-03-02T17:51:05.029951Z",
     "iopub.status.busy": "2025-03-02T17:51:05.029607Z",
     "iopub.status.idle": "2025-03-02T17:51:05.036580Z",
     "shell.execute_reply": "2025-03-02T17:51:05.035439Z"
    },
    "papermill": {
     "duration": 0.015439,
     "end_time": "2025-03-02T17:51:05.038274",
     "exception": false,
     "start_time": "2025-03-02T17:51:05.022835",
     "status": "completed"
    },
    "tags": []
   },
   "outputs": [],
   "source": [
    "class mySimpleNN:\n",
    "    def __init__(self, X):\n",
    "        self.weights = torch.rand(X.shape[1], 1, dtype = torch.float64, requires_grad = True)\n",
    "        self.bias = torch.zeros(1, dtype = torch.float64, requires_grad = True)\n",
    "        \n",
    "    def forward(self, X):\n",
    "        z = torch.matmul(X, self.weights) + self.bias\n",
    "        ypred = torch.sigmoid(z)\n",
    "        return ypred\n",
    "\n",
    "    def loss_function(self, ypred, y):\n",
    "        \n",
    "        #Clamp predictions to avoid log(0) situation\n",
    "        epsilon = 1e-7\n",
    "        ypred = torch.clamp(ypred, min = epsilon, max = 1 - epsilon)\n",
    "\n",
    "        #- [y * log(p) + (1 - y) * log(1 - p)]\n",
    "        loss  = - (ytrain_tensor * torch.log(ypred) + (1 - ytrain_tensor) * torch.log(1 - ypred)).mean()\n",
    "        return loss"
   ]
  },
  {
   "cell_type": "code",
   "execution_count": 17,
   "id": "f872ec15",
   "metadata": {
    "execution": {
     "iopub.execute_input": "2025-03-02T17:51:05.051033Z",
     "iopub.status.busy": "2025-03-02T17:51:05.050703Z",
     "iopub.status.idle": "2025-03-02T17:51:05.079612Z",
     "shell.execute_reply": "2025-03-02T17:51:05.078414Z"
    },
    "papermill": {
     "duration": 0.038615,
     "end_time": "2025-03-02T17:51:05.082569",
     "exception": false,
     "start_time": "2025-03-02T17:51:05.043954",
     "status": "completed"
    },
    "tags": []
   },
   "outputs": [],
   "source": [
    "#Training pipeline\n",
    "#1. Create model\n",
    "model = mySimpleNN(xtrain_tensor)"
   ]
  },
  {
   "cell_type": "code",
   "execution_count": 18,
   "id": "db246f01",
   "metadata": {
    "execution": {
     "iopub.execute_input": "2025-03-02T17:51:05.096257Z",
     "iopub.status.busy": "2025-03-02T17:51:05.095904Z",
     "iopub.status.idle": "2025-03-02T17:51:05.297556Z",
     "shell.execute_reply": "2025-03-02T17:51:05.296380Z"
    },
    "papermill": {
     "duration": 0.211369,
     "end_time": "2025-03-02T17:51:05.299781",
     "exception": false,
     "start_time": "2025-03-02T17:51:05.088412",
     "status": "completed"
    },
    "tags": []
   },
   "outputs": [
    {
     "name": "stdout",
     "output_type": "stream",
     "text": [
      "Epoch: 11, Loss: 3.5955286675742837\n",
      "Epoch: 11, Loss: 3.4680107072837414\n",
      "Epoch: 11, Loss: 3.3314594644261337\n",
      "Epoch: 11, Loss: 3.1893378280149283\n",
      "Epoch: 11, Loss: 3.0456036323305336\n",
      "Epoch: 11, Loss: 2.9022032208737314\n",
      "Epoch: 11, Loss: 2.7481043085564987\n",
      "Epoch: 11, Loss: 2.5936949788545314\n",
      "Epoch: 11, Loss: 2.437766272498766\n",
      "Epoch: 11, Loss: 2.2816136617566185\n"
     ]
    }
   ],
   "source": [
    "#loop\n",
    "for e in range(epoch):\n",
    "    \n",
    "    #forward pass (calculate z= wz+b and then sigmoid(z))\n",
    "    ypred = model.forward(xtrain_tensor)\n",
    "    \n",
    "    #loss calculate\n",
    "    loss = model.loss_function(ypred, ytrain_tensor)\n",
    "    \n",
    "    #backward pass\n",
    "    loss.backward()\n",
    "\n",
    "    #parameter update\n",
    "    #weight update formula: w_new = w_old - learning_rate * partial derviative of the loss function L with respect to the weight w.\n",
    "    #same formula to update bias is-\n",
    "    #bias update formulaw: b_new = b_old - learning_rate * partial derviative of the loss function L with respect to the bias b.\n",
    "    \n",
    "    with torch.no_grad():\n",
    "        model.weights -= learning_rate * model.weights.grad\n",
    "        model.bias -= learning_rate * model.bias.grad\n",
    "    \n",
    "    #zero gradients\n",
    "    #to stop accumulation of gradients with each epoch we will use grad.zero_() so that gradients will start from zero for each epoch\n",
    "    model.weights.grad.zero_()\n",
    "    model.bias.grad.zero_()\n",
    "\n",
    "    #print loss in each epoch\n",
    "    print(f'Epoch: {epoch + 1}, Loss: {loss.item()}')"
   ]
  },
  {
   "cell_type": "code",
   "execution_count": 19,
   "id": "a7cb8a06",
   "metadata": {
    "execution": {
     "iopub.execute_input": "2025-03-02T17:51:05.312957Z",
     "iopub.status.busy": "2025-03-02T17:51:05.312611Z",
     "iopub.status.idle": "2025-03-02T17:51:05.327859Z",
     "shell.execute_reply": "2025-03-02T17:51:05.326758Z"
    },
    "papermill": {
     "duration": 0.023821,
     "end_time": "2025-03-02T17:51:05.329670",
     "exception": false,
     "start_time": "2025-03-02T17:51:05.305849",
     "status": "completed"
    },
    "tags": []
   },
   "outputs": [
    {
     "name": "stdout",
     "output_type": "stream",
     "text": [
      "Accuracy: 0.5219587683677673\n"
     ]
    }
   ],
   "source": [
    "#Model Evaluation\n",
    "with torch.no_grad():\n",
    "    ypred = model.forward(xtrain_tensor)\n",
    "    ypred = (ypred > 0.5).float()\n",
    "    accuracy = (ypred == ytest_tensor).float().mean()\n",
    "    print(f'Accuracy: {accuracy.item()}')"
   ]
  },
  {
   "cell_type": "code",
   "execution_count": null,
   "id": "8061d994",
   "metadata": {
    "papermill": {
     "duration": 0.006463,
     "end_time": "2025-03-02T17:51:05.343416",
     "exception": false,
     "start_time": "2025-03-02T17:51:05.336953",
     "status": "completed"
    },
    "tags": []
   },
   "outputs": [],
   "source": [
    "\n"
   ]
  },
  {
   "cell_type": "markdown",
   "id": "4768c30e",
   "metadata": {
    "papermill": {
     "duration": 0.005415,
     "end_time": "2025-03-02T17:51:05.354304",
     "exception": false,
     "start_time": "2025-03-02T17:51:05.348889",
     "status": "completed"
    },
    "tags": []
   },
   "source": []
  }
 ],
 "metadata": {
  "kaggle": {
   "accelerator": "none",
   "dataSources": [
    {
     "datasetId": 1829286,
     "sourceId": 2984728,
     "sourceType": "datasetVersion"
    }
   ],
   "dockerImageVersionId": 30918,
   "isGpuEnabled": false,
   "isInternetEnabled": false,
   "language": "python",
   "sourceType": "notebook"
  },
  "kernelspec": {
   "display_name": "Python 3",
   "language": "python",
   "name": "python3"
  },
  "language_info": {
   "codemirror_mode": {
    "name": "ipython",
    "version": 3
   },
   "file_extension": ".py",
   "mimetype": "text/x-python",
   "name": "python",
   "nbconvert_exporter": "python",
   "pygments_lexer": "ipython3",
   "version": "3.10.12"
  },
  "papermill": {
   "default_parameters": {},
   "duration": 13.558556,
   "end_time": "2025-03-02T17:51:07.184231",
   "environment_variables": {},
   "exception": null,
   "input_path": "__notebook__.ipynb",
   "output_path": "__notebook__.ipynb",
   "parameters": {},
   "start_time": "2025-03-02T17:50:53.625675",
   "version": "2.6.0"
  }
 },
 "nbformat": 4,
 "nbformat_minor": 5
}
